{
  "nbformat": 4,
  "nbformat_minor": 0,
  "metadata": {
    "colab": {
      "name": "Actividad2",
      "provenance": [],
      "authorship_tag": "ABX9TyOdtN3vvlF7wuwnGmsUjMyI",
      "include_colab_link": true
    },
    "kernelspec": {
      "name": "python3",
      "display_name": "Python 3"
    }
  },
  "cells": [
    {
      "cell_type": "markdown",
      "metadata": {
        "id": "view-in-github",
        "colab_type": "text"
      },
      "source": [
        "<a href=\"https://colab.research.google.com/github/azavalae/fisica_computacional/blob/main/Actividad2.ipynb\" target=\"_parent\"><img src=\"https://colab.research.google.com/assets/colab-badge.svg\" alt=\"Open In Colab\"/></a>"
      ]
    },
    {
      "cell_type": "markdown",
      "metadata": {
        "id": "l1TB_wZxZHH1"
      },
      "source": [
        "# Ejercicio 1\n",
        "Este ejercicio consiste en elaborar uno o varios programas para calcular el área de un círculo, el área de una elipse, el volumen de una esfera y el volumen de un cilindro circular, describiendo brevemente el procedimiento de cada uno de los cálculos, haciendo uso de la notación LaTeX.\n",
        "\n",
        "\n"
      ]
    },
    {
      "cell_type": "markdown",
      "metadata": {
        "id": "nJrqHLmca0fL"
      },
      "source": [
        "\n",
        "\n",
        "> Cálculo del Área de un Círculo\n",
        "\n",
        "Para calcular el área de un círculo, se hace uso de la conocida expresión $A = \\pi r^2$. Para ello es necesario:\n",
        "\n",
        "\n",
        "1.   Importar la biblioteca numpy para poder utipizar el número $\\pi$.\n",
        "2.   Definir una función de una variable, correspondiente al área del círculo y cuya única variable sea el radio $r$ del círculo.\n",
        "\n",
        "\n",
        "\n",
        "\n",
        "\n"
      ]
    },
    {
      "cell_type": "code",
      "metadata": {
        "id": "n_CPAD6VajeP"
      },
      "source": [
        "import numpy as np\n",
        "import matplotlib.pyplot as plt"
      ],
      "execution_count": null,
      "outputs": []
    },
    {
      "cell_type": "code",
      "metadata": {
        "id": "Xcfz3Uy-czIX"
      },
      "source": [
        "def acirculo(x):\n",
        "  return np.pi*x**2\n",
        "\n",
        "print(\"¿Qué longitud tiene el radio del círculo?\")\n",
        "r = float(input())\n",
        "a1 = acirculo(r)\n",
        "print(\"Área del círculo =\", a1)         "
      ],
      "execution_count": null,
      "outputs": []
    },
    {
      "cell_type": "markdown",
      "metadata": {
        "id": "ayzuHPnAf0rJ"
      },
      "source": [
        "\n",
        "\n",
        "> Cálculo del Área de una Elipse\n",
        "\n",
        "Para calcular el área de una elipse será necesario hacer uso de la expresión $A = \\pi ab$, donde $a$ es el semieje mayor y $b$ es el semieje menor. Para ello es necesario definir una función de dos variables correspondiente al área de la elipse y cuyas variables son las longitudes de los semiejes de la misma. Posteriormente, se pide al usuario que ingrese las longitudes y se muestra el resultado.\n",
        "\n"
      ]
    },
    {
      "cell_type": "code",
      "metadata": {
        "id": "mke_Ylv9hgAN"
      },
      "source": [
        "def aelipse(x, y):\n",
        "  return np.pi*x*y\n",
        "\n",
        "print(\"¿Cuál es la longitud del semieje mayor?\")\n",
        "a = float(input())\n",
        "print(\"¿Cuál es la longitud del semieje menor?\")\n",
        "b = float(input())\n",
        "a2 = aelipse(a, b)\n",
        "print(\"Área de la Elipse =\", a2)"
      ],
      "execution_count": null,
      "outputs": []
    },
    {
      "cell_type": "markdown",
      "metadata": {
        "id": "HYUJd2Q0jIes"
      },
      "source": [
        "\n",
        "\n",
        "> Cálculo de Volumen de una Esfera\n",
        "\n",
        "Para calcular el volumen de una esfera, se hace uso de la expresión $V = \\frac{4}{3}\\pi r^3$. Para ello, se define una función de una variable, correspondiente al volumen de la esfera y cuya única variable es la longitud del radio que ingresa el usuario.\n",
        "\n"
      ]
    },
    {
      "cell_type": "code",
      "metadata": {
        "id": "Xhc1c4OQkIVu"
      },
      "source": [
        "def vesfera(x):\n",
        "  return 4.0*np.pi*x**3/3\n",
        "\n",
        "print(\"¿Cuál es la longitud del radio de la esfera?\")\n",
        "r = float(input())\n",
        "a3 = vesfera(r)\n",
        "print(\"Volumen de la esfera =\", a3)"
      ],
      "execution_count": null,
      "outputs": []
    },
    {
      "cell_type": "markdown",
      "metadata": {
        "id": "YjFrG1gHlfYm"
      },
      "source": [
        "\n",
        "\n",
        "> Volumen de un Cilindro Circular\n",
        "\n",
        "Para calcular el volumen de un cilindro circular, se hace uso de la expresión $V = \\pi r^2h$. Para ello, es necesario definir una función de dos variables, correspondiente al volumen del cilindro y cuyas variables son el radio $r$ y la altura $h$ del cilindro. Una vez definida la función a utilizar, se pide al usuario la longitud del radio y la altura del cilindro. Posterioremente, se muestra el resultado.\n",
        "\n"
      ]
    },
    {
      "cell_type": "code",
      "metadata": {
        "id": "IB14-8LKmkWm"
      },
      "source": [
        "def vcilindro(x, y):\n",
        "  return np.pi*x**2*y\n",
        "\n",
        "print(\"¿Qué longitud tiene el radio del cilindro?\")\n",
        "r = float(input())\n",
        "print(\"¿Qué altura tiene el cilindro?\")\n",
        "h = float(input())\n",
        "a4 = vcilindro(r, h)\n",
        "print(\"Volumen del cilindro circular =\", a4)\n"
      ],
      "execution_count": null,
      "outputs": []
    },
    {
      "cell_type": "markdown",
      "metadata": {
        "id": "DKxz-Wmio38C"
      },
      "source": [
        "# Ejercicio 2\n",
        "Este ejercicio consiste en desarrollar un programa para calcular las raíces de una ecuación de segundo grado. En esta ocasión, no tomo en cuenta las raíces pertenecientes al campo de los números complejos.\n",
        "\n",
        "Para resolver la ecuación cuadrática, se hace uso de la conocida fórmula general:\n",
        "\n",
        "$$\n",
        "x=\\frac{-b\\pm\\sqrt{b^2-4ac}}{2a}\n",
        "$$\n",
        "\n",
        "Se pide al usuario, entonces, los valores de los coeficientes de la ecuación y enseguida se determina si las raíces son reales o imaginarias. Si el discriminante es mayor o igual a cero, tiene raíces reales; si el discriminante es menor a cero, tiene raíces complejas."
      ]
    },
    {
      "cell_type": "code",
      "metadata": {
        "id": "0dLOteQnqZI9"
      },
      "source": [
        "print(\"¿Cuál es el valor de a?\")\n",
        "a = float(input())\n",
        "print(\"¿Cuál es el valor de b?\")\n",
        "b = float(input())\n",
        "print(\"¿Cuál es el valor de c?\")\n",
        "c = float(input())\n",
        "\n",
        "d = b**2-4*a*c\n",
        "x1 = (-b+np.sqrt(d))/(2*a)\n",
        "x2 = (-b-np.sqrt(d))/(2*a)          \n",
        "\n",
        "if d>=0:\n",
        "  print(\"Las raíces son\", x1, x2)\n",
        "else:\n",
        "  print(\"Las raíces no pertenecen al campo de los números reales.\")\n",
        "\n",
        "\n"
      ],
      "execution_count": null,
      "outputs": []
    },
    {
      "cell_type": "markdown",
      "metadata": {
        "id": "sFTU-L6HeujA"
      },
      "source": [
        "# Ejercicio 3\n",
        "\n",
        "Este ejercicio consiste en desarrollar un programa con el objetivo de calcular la raíz cuadrada de un número mediante la implementación del método de Herón, con un error menor a 0.01. Para ello se hace uso de la fórmula:\n",
        "\n",
        "$$\n",
        "x_{n+1}=\\frac{1}{2}\\left(x_n+\\frac{S}{x_n}\\right)\n",
        "$$"
      ]
    },
    {
      "cell_type": "code",
      "metadata": {
        "id": "cEoLFa44rp26"
      },
      "source": [
        "def sqrt(numero):\n",
        "    s = numero\n",
        "    y = 1 \n",
        "    error = 0.01\n",
        "    while s - y >= error:\n",
        "        s = (s + y)/2;\n",
        "        y = numero/s;\n",
        "    return s\n",
        "print(\"La raíz cuadrada de 9 es \" + str(sqrt(9)))\n",
        "print(\"es raíz cuadrada de 14 es \"+str(sqrt(14)))"
      ],
      "execution_count": null,
      "outputs": []
    },
    {
      "cell_type": "markdown",
      "metadata": {
        "id": "5qBprPskuSTV"
      },
      "source": [
        "# Ejercicio 4\n",
        "\n",
        "Este ejercicio consiste en replicar una figura de aproximaciones de serie de Taylor para la función $f(x) = \\ln(x+1)$."
      ]
    },
    {
      "cell_type": "code",
      "metadata": {
        "id": "_kw3CirWuvid"
      },
      "source": [
        "# Cargar la subbiblioteca pytlot de Matplotlib \n",
        "import numpy as np\n",
        "\n",
        "# Gráfica de funciones\n",
        "# Definición de variables y funciones\n",
        "\n",
        "x = np.linspace(-1,1,100)  # arrego de 100 puntos entre -pi y pi\n",
        "y = np.log(1+x)\n",
        "T4 = x-x**2/2+x**3/3-x**4/4\n",
        "T7 = x-x**2/2+x**3/3-x**4/4+x**5/5-x**6/6+x**7/7\n",
        "T11 = x-x**2/2+x**3/3-x**4/4+x**5/5-x**6/6+x**7/7-x**8/8+x**9/9-x**10/10+x**11/11\n",
        "T16 = x-x**2/2+x**3/3-x**4/4+x**5/5-x**6/6+x**7/7-x**8/8+x**9/9-x**10/10+x**11/11-x**12/12+x**13/13-x**14/14+x**15/15-x**16/16\n",
        "   \n",
        "# Creación de la gráficas\n",
        "\n",
        "\n",
        "plt.subplot(111)\n",
        "\n",
        "plt.xlabel(\"X label\")\n",
        "\n",
        "plt.ylabel(\"Y label\")\n",
        "\n",
        "plt.title(\"Title\")\n",
        "\n",
        "\n",
        "\n",
        "# Graficar varias funciones\n",
        "\n",
        "plt.plot(x,T4, label=\"T4\")\n",
        "\n",
        "plt.plot(x,T7, label=\"T7\")\n",
        "\n",
        "plt.plot(x,T11, label=\"T11\")\n",
        "\n",
        "plt.plot(x, T16, label=\"T16\")\n",
        "\n",
        "plt.plot(x, y, label=\"ln(1+x)\")\n",
        "\n",
        "# Agregar una malla\n",
        "\n",
        "plt.grid(True)\n",
        "\n",
        "# Fijar los límites en el eje Y\n",
        "plt.xlim(-1,1)\n",
        "plt.ylim(-2, 2)\n",
        "\n",
        "# Ubicación de las etiquetas de las funciones\n",
        "\n",
        "plt.legend(bbox_to_anchor=(1,1), loc=\"upper left\")\n",
        "\n",
        "plt.show()\n",
        "\n",
        "#plt.savefig('plot.png')  # Si se desea guardar en un archivo la imagen de la gráfica"
      ],
      "execution_count": null,
      "outputs": []
    }
  ]
}
