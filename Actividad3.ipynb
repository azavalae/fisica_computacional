{
  "nbformat": 4,
  "nbformat_minor": 0,
  "metadata": {
    "colab": {
      "name": "Actividad3.ipynb",
      "provenance": [],
      "authorship_tag": "ABX9TyMY/vxuU2aqZn3lveH0kCm1",
      "include_colab_link": true
    },
    "kernelspec": {
      "name": "python3",
      "display_name": "Python 3"
    }
  },
  "cells": [
    {
      "cell_type": "markdown",
      "metadata": {
        "id": "view-in-github",
        "colab_type": "text"
      },
      "source": [
        "<a href=\"https://colab.research.google.com/github/azavalae/fisica_computacional/blob/main/Actividad3.ipynb\" target=\"_parent\"><img src=\"https://colab.research.google.com/assets/colab-badge.svg\" alt=\"Open In Colab\"/></a>"
      ]
    },
    {
      "cell_type": "code",
      "metadata": {
        "id": "c6UbRX2lFX1t",
        "colab": {
          "base_uri": "https://localhost:8080/"
        },
        "outputId": "54d6b304-e7ef-44a6-8859-e73caa5d83a3"
      },
      "source": [
        "import numpy as np\n",
        "import pandas as pd\n",
        "\n",
        "url = 'https://raw.githubusercontent.com/azavalae/fisica_computacional/main/Actividad1/26053.txt'\n",
        "my_cols = ['Fecha', 'Precip', 'Evap', 'Tmax', 'Tmin']\n",
        "df_dist = pd.read_csv(url, names=my_cols, encoding='cp1251', sep='\\s+', header=None, skiprows=19, skipfooter=1, engine='python')\n",
        "print(df_dist.head(3))\n",
        "print(df_dist.tail())\n"
      ],
      "execution_count": null,
      "outputs": [
        {
          "output_type": "stream",
          "text": [
            "        Fecha Precip  Evap  Tmax  Tmin\n",
            "0  01/02/1927      0  Nulo  26.5  13.5\n",
            "1  02/02/1927      0  Nulo    27  13.8\n",
            "2  03/02/1927      0  Nulo  24.1  12.8\n",
            "            Fecha Precip  Evap  Tmax Tmin\n",
            "31650  26/04/2016      0  Nulo    33   12\n",
            "31651  27/04/2016      0  Nulo    33   11\n",
            "31652  28/04/2016      0  Nulo    32    8\n",
            "31653  29/04/2016      0  Nulo    32   10\n",
            "31654  30/04/2016      0  Nulo  Nulo   11\n"
          ],
          "name": "stdout"
        }
      ]
    },
    {
      "cell_type": "code",
      "metadata": {
        "id": "yCpYx8JcmbAB",
        "colab": {
          "base_uri": "https://localhost:8080/"
        },
        "outputId": "20b84407-082d-42f3-c903-5066c7799831"
      },
      "source": [
        "#Imprime el encabezado y el final del dataframe\n",
        "print(df_dist.head(10)) \n",
        "print(df_dist.tail(10))"
      ],
      "execution_count": null,
      "outputs": [
        {
          "output_type": "stream",
          "text": [
            "        Fecha Precip  Evap  Tmax  Tmin\n",
            "0  01/02/1927      0  Nulo  26.5  13.5\n",
            "1  02/02/1927      0  Nulo    27  13.8\n",
            "2  03/02/1927      0  Nulo  24.1  12.8\n",
            "3  04/02/1927      0  Nulo  26.5  11.7\n",
            "4  05/02/1927      0  Nulo  25.5   9.8\n",
            "5  06/02/1927      0  Nulo  24.5   9.2\n",
            "6  07/02/1927      0  Nulo  27.3  10.7\n",
            "7  08/02/1927      0  Nulo  26.2  11.8\n",
            "8  09/02/1927      0  Nulo  23.4   7.8\n",
            "9  10/02/1927      0  Nulo  20.2   8.5\n",
            "            Fecha Precip  Evap  Tmax Tmin\n",
            "31645  21/04/2016      0  Nulo    38   12\n",
            "31646  22/04/2016      0  Nulo    36   14\n",
            "31647  23/04/2016      0  Nulo    33   13\n",
            "31648  24/04/2016      0  Nulo    34   12\n",
            "31649  25/04/2016      0  Nulo    34   14\n",
            "31650  26/04/2016      0  Nulo    33   12\n",
            "31651  27/04/2016      0  Nulo    33   11\n",
            "31652  28/04/2016      0  Nulo    32    8\n",
            "31653  29/04/2016      0  Nulo    32   10\n",
            "31654  30/04/2016      0  Nulo  Nulo   11\n"
          ],
          "name": "stdout"
        }
      ]
    },
    {
      "cell_type": "code",
      "metadata": {
        "colab": {
          "base_uri": "https://localhost:8080/"
        },
        "id": "M4txW1qDn5zH",
        "outputId": "0197ec56-13d4-42bb-a610-e5cee252ee51"
      },
      "source": [
        "#Dimensiones del dataframe\n",
        "df_dist.shape"
      ],
      "execution_count": null,
      "outputs": [
        {
          "output_type": "execute_result",
          "data": {
            "text/plain": [
              "(31655, 5)"
            ]
          },
          "metadata": {
            "tags": []
          },
          "execution_count": 6
        }
      ]
    },
    {
      "cell_type": "code",
      "metadata": {
        "colab": {
          "base_uri": "https://localhost:8080/"
        },
        "id": "NZGqjulLoLma",
        "outputId": "d289623f-390b-45e5-b658-71b4ee9de4ab"
      },
      "source": [
        "#Contenido del dataframe\n",
        "df_dist.info"
      ],
      "execution_count": null,
      "outputs": [
        {
          "output_type": "execute_result",
          "data": {
            "text/plain": [
              "<bound method DataFrame.info of             Fecha  Precip  Evap  Tmax  Tmin\n",
              "0      01/02/1927     0.0   NaN  26.5  13.5\n",
              "1      02/02/1927     0.0   NaN  27.0  13.8\n",
              "2      03/02/1927     0.0   NaN  24.1  12.8\n",
              "3      04/02/1927     0.0   NaN  26.5  11.7\n",
              "4      05/02/1927     0.0   NaN  25.5   9.8\n",
              "...           ...     ...   ...   ...   ...\n",
              "31650  26/04/2016     0.0   NaN  33.0  12.0\n",
              "31651  27/04/2016     0.0   NaN  33.0  11.0\n",
              "31652  28/04/2016     0.0   NaN  32.0   8.0\n",
              "31653  29/04/2016     0.0   NaN  32.0  10.0\n",
              "31654  30/04/2016     0.0   NaN   NaN  11.0\n",
              "\n",
              "[31655 rows x 5 columns]>"
            ]
          },
          "metadata": {
            "tags": []
          },
          "execution_count": 41
        }
      ]
    },
    {
      "cell_type": "code",
      "metadata": {
        "id": "M8LRS_BayALr",
        "colab": {
          "base_uri": "https://localhost:8080/",
          "height": 202
        },
        "outputId": "10a4e209-33e1-4a62-bd8f-d29c17e9e41b"
      },
      "source": [
        "#Reemplazando la palabra nulo.\n",
        "str_Nulo = \"Nulo\"\n",
        "df_dist1 = df_dist.replace(to_replace=str_Nulo, value=\"\", regex=True)\n",
        "df_dist1.head()"
      ],
      "execution_count": null,
      "outputs": [
        {
          "output_type": "execute_result",
          "data": {
            "text/html": [
              "<div>\n",
              "<style scoped>\n",
              "    .dataframe tbody tr th:only-of-type {\n",
              "        vertical-align: middle;\n",
              "    }\n",
              "\n",
              "    .dataframe tbody tr th {\n",
              "        vertical-align: top;\n",
              "    }\n",
              "\n",
              "    .dataframe thead th {\n",
              "        text-align: right;\n",
              "    }\n",
              "</style>\n",
              "<table border=\"1\" class=\"dataframe\">\n",
              "  <thead>\n",
              "    <tr style=\"text-align: right;\">\n",
              "      <th></th>\n",
              "      <th>Fecha</th>\n",
              "      <th>Precip</th>\n",
              "      <th>Evap</th>\n",
              "      <th>Tmax</th>\n",
              "      <th>Tmin</th>\n",
              "    </tr>\n",
              "  </thead>\n",
              "  <tbody>\n",
              "    <tr>\n",
              "      <th>0</th>\n",
              "      <td>01/02/1927</td>\n",
              "      <td>0.0</td>\n",
              "      <td>NaN</td>\n",
              "      <td>26.5</td>\n",
              "      <td>13.5</td>\n",
              "    </tr>\n",
              "    <tr>\n",
              "      <th>1</th>\n",
              "      <td>02/02/1927</td>\n",
              "      <td>0.0</td>\n",
              "      <td>NaN</td>\n",
              "      <td>27.0</td>\n",
              "      <td>13.8</td>\n",
              "    </tr>\n",
              "    <tr>\n",
              "      <th>2</th>\n",
              "      <td>03/02/1927</td>\n",
              "      <td>0.0</td>\n",
              "      <td>NaN</td>\n",
              "      <td>24.1</td>\n",
              "      <td>12.8</td>\n",
              "    </tr>\n",
              "    <tr>\n",
              "      <th>3</th>\n",
              "      <td>04/02/1927</td>\n",
              "      <td>0.0</td>\n",
              "      <td>NaN</td>\n",
              "      <td>26.5</td>\n",
              "      <td>11.7</td>\n",
              "    </tr>\n",
              "    <tr>\n",
              "      <th>4</th>\n",
              "      <td>05/02/1927</td>\n",
              "      <td>0.0</td>\n",
              "      <td>NaN</td>\n",
              "      <td>25.5</td>\n",
              "      <td>9.8</td>\n",
              "    </tr>\n",
              "  </tbody>\n",
              "</table>\n",
              "</div>"
            ],
            "text/plain": [
              "        Fecha  Precip  Evap  Tmax  Tmin\n",
              "0  01/02/1927     0.0   NaN  26.5  13.5\n",
              "1  02/02/1927     0.0   NaN  27.0  13.8\n",
              "2  03/02/1927     0.0   NaN  24.1  12.8\n",
              "3  04/02/1927     0.0   NaN  26.5  11.7\n",
              "4  05/02/1927     0.0   NaN  25.5   9.8"
            ]
          },
          "metadata": {
            "tags": []
          },
          "execution_count": 15
        }
      ]
    },
    {
      "cell_type": "code",
      "metadata": {
        "id": "LMs6l8p2rM24",
        "colab": {
          "base_uri": "https://localhost:8080/"
        },
        "outputId": "8290a5d0-ef31-4c0d-a8dd-902764d6f38c"
      },
      "source": [
        "cols_list = ['Precip', 'Evap', 'Tmax', 'Tmin']\n",
        "for cols in cols_list:\n",
        "  df_dist[cols] = pd.to_numeric(df_dist[cols], errors='coerce')\n",
        "df_dist.info"
      ],
      "execution_count": null,
      "outputs": [
        {
          "output_type": "execute_result",
          "data": {
            "text/plain": [
              "<bound method DataFrame.info of             Fecha  Precip  Evap  Tmax  Tmin\n",
              "0      01/02/1927     0.0   NaN  26.5  13.5\n",
              "1      02/02/1927     0.0   NaN  27.0  13.8\n",
              "2      03/02/1927     0.0   NaN  24.1  12.8\n",
              "3      04/02/1927     0.0   NaN  26.5  11.7\n",
              "4      05/02/1927     0.0   NaN  25.5   9.8\n",
              "...           ...     ...   ...   ...   ...\n",
              "31650  26/04/2016     0.0   NaN  33.0  12.0\n",
              "31651  27/04/2016     0.0   NaN  33.0  11.0\n",
              "31652  28/04/2016     0.0   NaN  32.0   8.0\n",
              "31653  29/04/2016     0.0   NaN  32.0  10.0\n",
              "31654  30/04/2016     0.0   NaN   NaN  11.0\n",
              "\n",
              "[31655 rows x 5 columns]>"
            ]
          },
          "metadata": {
            "tags": []
          },
          "execution_count": 8
        }
      ]
    },
    {
      "cell_type": "code",
      "metadata": {
        "colab": {
          "base_uri": "https://localhost:8080/"
        },
        "id": "dq8eEz_JCdKL",
        "outputId": "87130624-11fc-4f96-b20c-54242104587f"
      },
      "source": [
        "df_dist.info()"
      ],
      "execution_count": null,
      "outputs": [
        {
          "output_type": "stream",
          "text": [
            "<class 'pandas.core.frame.DataFrame'>\n",
            "RangeIndex: 31655 entries, 0 to 31654\n",
            "Data columns (total 5 columns):\n",
            " #   Column  Non-Null Count  Dtype  \n",
            "---  ------  --------------  -----  \n",
            " 0   Fecha   31655 non-null  object \n",
            " 1   Precip  31402 non-null  float64\n",
            " 2   Evap    196 non-null    float64\n",
            " 3   Tmax    31551 non-null  float64\n",
            " 4   Tmin    31648 non-null  float64\n",
            "dtypes: float64(4), object(1)\n",
            "memory usage: 1.2+ MB\n"
          ],
          "name": "stdout"
        }
      ]
    },
    {
      "cell_type": "code",
      "metadata": {
        "colab": {
          "base_uri": "https://localhost:8080/"
        },
        "id": "-bA7YzV2C7vY",
        "outputId": "93ac132d-ce15-4b66-857c-6d838be796c4"
      },
      "source": [
        "df_dist.isnull().sum()"
      ],
      "execution_count": null,
      "outputs": [
        {
          "output_type": "execute_result",
          "data": {
            "text/plain": [
              "Fecha         0\n",
              "Precip      253\n",
              "Evap      31459\n",
              "Tmax        104\n",
              "Tmin          7\n",
              "dtype: int64"
            ]
          },
          "metadata": {
            "tags": []
          },
          "execution_count": 11
        }
      ]
    },
    {
      "cell_type": "code",
      "metadata": {
        "colab": {
          "base_uri": "https://localhost:8080/",
          "height": 202
        },
        "id": "5B8qIdPgDKsO",
        "outputId": "98fc63c5-5649-4b38-950d-7ae3011208dd"
      },
      "source": [
        "df_dist.head()\n",
        "df_dist.tail()"
      ],
      "execution_count": null,
      "outputs": [
        {
          "output_type": "execute_result",
          "data": {
            "text/html": [
              "<div>\n",
              "<style scoped>\n",
              "    .dataframe tbody tr th:only-of-type {\n",
              "        vertical-align: middle;\n",
              "    }\n",
              "\n",
              "    .dataframe tbody tr th {\n",
              "        vertical-align: top;\n",
              "    }\n",
              "\n",
              "    .dataframe thead th {\n",
              "        text-align: right;\n",
              "    }\n",
              "</style>\n",
              "<table border=\"1\" class=\"dataframe\">\n",
              "  <thead>\n",
              "    <tr style=\"text-align: right;\">\n",
              "      <th></th>\n",
              "      <th>Fecha</th>\n",
              "      <th>Precip</th>\n",
              "      <th>Evap</th>\n",
              "      <th>Tmax</th>\n",
              "      <th>Tmin</th>\n",
              "    </tr>\n",
              "  </thead>\n",
              "  <tbody>\n",
              "    <tr>\n",
              "      <th>31650</th>\n",
              "      <td>26/04/2016</td>\n",
              "      <td>0.0</td>\n",
              "      <td>NaN</td>\n",
              "      <td>33.0</td>\n",
              "      <td>12.0</td>\n",
              "    </tr>\n",
              "    <tr>\n",
              "      <th>31651</th>\n",
              "      <td>27/04/2016</td>\n",
              "      <td>0.0</td>\n",
              "      <td>NaN</td>\n",
              "      <td>33.0</td>\n",
              "      <td>11.0</td>\n",
              "    </tr>\n",
              "    <tr>\n",
              "      <th>31652</th>\n",
              "      <td>28/04/2016</td>\n",
              "      <td>0.0</td>\n",
              "      <td>NaN</td>\n",
              "      <td>32.0</td>\n",
              "      <td>8.0</td>\n",
              "    </tr>\n",
              "    <tr>\n",
              "      <th>31653</th>\n",
              "      <td>29/04/2016</td>\n",
              "      <td>0.0</td>\n",
              "      <td>NaN</td>\n",
              "      <td>32.0</td>\n",
              "      <td>10.0</td>\n",
              "    </tr>\n",
              "    <tr>\n",
              "      <th>31654</th>\n",
              "      <td>30/04/2016</td>\n",
              "      <td>0.0</td>\n",
              "      <td>NaN</td>\n",
              "      <td>NaN</td>\n",
              "      <td>11.0</td>\n",
              "    </tr>\n",
              "  </tbody>\n",
              "</table>\n",
              "</div>"
            ],
            "text/plain": [
              "            Fecha  Precip  Evap  Tmax  Tmin\n",
              "31650  26/04/2016     0.0   NaN  33.0  12.0\n",
              "31651  27/04/2016     0.0   NaN  33.0  11.0\n",
              "31652  28/04/2016     0.0   NaN  32.0   8.0\n",
              "31653  29/04/2016     0.0   NaN  32.0  10.0\n",
              "31654  30/04/2016     0.0   NaN   NaN  11.0"
            ]
          },
          "metadata": {
            "tags": []
          },
          "execution_count": 12
        }
      ]
    },
    {
      "cell_type": "code",
      "metadata": {
        "colab": {
          "base_uri": "https://localhost:8080/",
          "height": 294
        },
        "id": "TiN--geADhFb",
        "outputId": "7f03a6c8-009b-4bde-e91b-697619f0ed12"
      },
      "source": [
        "df_dist.describe()"
      ],
      "execution_count": null,
      "outputs": [
        {
          "output_type": "execute_result",
          "data": {
            "text/html": [
              "<div>\n",
              "<style scoped>\n",
              "    .dataframe tbody tr th:only-of-type {\n",
              "        vertical-align: middle;\n",
              "    }\n",
              "\n",
              "    .dataframe tbody tr th {\n",
              "        vertical-align: top;\n",
              "    }\n",
              "\n",
              "    .dataframe thead th {\n",
              "        text-align: right;\n",
              "    }\n",
              "</style>\n",
              "<table border=\"1\" class=\"dataframe\">\n",
              "  <thead>\n",
              "    <tr style=\"text-align: right;\">\n",
              "      <th></th>\n",
              "      <th>Precip</th>\n",
              "      <th>Evap</th>\n",
              "      <th>Tmax</th>\n",
              "      <th>Tmin</th>\n",
              "    </tr>\n",
              "  </thead>\n",
              "  <tbody>\n",
              "    <tr>\n",
              "      <th>count</th>\n",
              "      <td>31402.000000</td>\n",
              "      <td>196.000000</td>\n",
              "      <td>31551.000000</td>\n",
              "      <td>31648.000000</td>\n",
              "    </tr>\n",
              "    <tr>\n",
              "      <th>mean</th>\n",
              "      <td>1.920343</td>\n",
              "      <td>10.740816</td>\n",
              "      <td>31.404349</td>\n",
              "      <td>15.111890</td>\n",
              "    </tr>\n",
              "    <tr>\n",
              "      <th>std</th>\n",
              "      <td>8.399203</td>\n",
              "      <td>5.587052</td>\n",
              "      <td>5.330938</td>\n",
              "      <td>5.719211</td>\n",
              "    </tr>\n",
              "    <tr>\n",
              "      <th>min</th>\n",
              "      <td>0.000000</td>\n",
              "      <td>0.500000</td>\n",
              "      <td>9.400000</td>\n",
              "      <td>-2.000000</td>\n",
              "    </tr>\n",
              "    <tr>\n",
              "      <th>25%</th>\n",
              "      <td>0.000000</td>\n",
              "      <td>9.000000</td>\n",
              "      <td>28.000000</td>\n",
              "      <td>11.000000</td>\n",
              "    </tr>\n",
              "    <tr>\n",
              "      <th>50%</th>\n",
              "      <td>0.000000</td>\n",
              "      <td>11.000000</td>\n",
              "      <td>32.000000</td>\n",
              "      <td>15.000000</td>\n",
              "    </tr>\n",
              "    <tr>\n",
              "      <th>75%</th>\n",
              "      <td>0.000000</td>\n",
              "      <td>15.000000</td>\n",
              "      <td>35.000000</td>\n",
              "      <td>20.800000</td>\n",
              "    </tr>\n",
              "    <tr>\n",
              "      <th>max</th>\n",
              "      <td>225.500000</td>\n",
              "      <td>18.000000</td>\n",
              "      <td>48.000000</td>\n",
              "      <td>30.000000</td>\n",
              "    </tr>\n",
              "  </tbody>\n",
              "</table>\n",
              "</div>"
            ],
            "text/plain": [
              "             Precip        Evap          Tmax          Tmin\n",
              "count  31402.000000  196.000000  31551.000000  31648.000000\n",
              "mean       1.920343   10.740816     31.404349     15.111890\n",
              "std        8.399203    5.587052      5.330938      5.719211\n",
              "min        0.000000    0.500000      9.400000     -2.000000\n",
              "25%        0.000000    9.000000     28.000000     11.000000\n",
              "50%        0.000000   11.000000     32.000000     15.000000\n",
              "75%        0.000000   15.000000     35.000000     20.800000\n",
              "max      225.500000   18.000000     48.000000     30.000000"
            ]
          },
          "metadata": {
            "tags": []
          },
          "execution_count": 16
        }
      ]
    },
    {
      "cell_type": "code",
      "metadata": {
        "id": "jmejXXrmEHqu"
      },
      "source": [
        "df_dist2=df_dist.copy()"
      ],
      "execution_count": null,
      "outputs": []
    },
    {
      "cell_type": "code",
      "metadata": {
        "colab": {
          "base_uri": "https://localhost:8080/"
        },
        "id": "Z0uTJ9CQIv-m",
        "outputId": "6ee086e4-a43f-423a-b4a6-f01573162a42"
      },
      "source": [
        "df_dist2['Fecha']=pd.to_datetime(df_dist2['Fecha'], dayfirst=True).copy()\n",
        "print(df_dist2.head())"
      ],
      "execution_count": null,
      "outputs": [
        {
          "output_type": "stream",
          "text": [
            "       Fecha Precip  Evap  Tmax  Tmin\n",
            "0 1927-02-01      0  Nulo  26.5  13.5\n",
            "1 1927-02-02      0  Nulo    27  13.8\n",
            "2 1927-02-03      0  Nulo  24.1  12.8\n",
            "3 1927-02-04      0  Nulo  26.5  11.7\n",
            "4 1927-02-05      0  Nulo  25.5   9.8\n"
          ],
          "name": "stdout"
        }
      ]
    },
    {
      "cell_type": "code",
      "metadata": {
        "colab": {
          "base_uri": "https://localhost:8080/"
        },
        "id": "AiJl5V93GMSi",
        "outputId": "37d5574f-7ce2-4128-f9a3-7cd5971cb019"
      },
      "source": [
        "df_dist2.dtypes"
      ],
      "execution_count": null,
      "outputs": [
        {
          "output_type": "execute_result",
          "data": {
            "text/plain": [
              "Fecha     datetime64[ns]\n",
              "Precip            object\n",
              "Evap              object\n",
              "Tmax              object\n",
              "Tmin              object\n",
              "dtype: object"
            ]
          },
          "metadata": {
            "tags": []
          },
          "execution_count": 7
        }
      ]
    },
    {
      "cell_type": "code",
      "metadata": {
        "id": "6c0yNKs3KYfo"
      },
      "source": [
        "df_dist2['Año'] = df_dist2['Fecha'].dt.year\n",
        "df_dist2['Mes'] = df_dist2['Fecha'].dt.month"
      ],
      "execution_count": null,
      "outputs": []
    },
    {
      "cell_type": "code",
      "metadata": {
        "colab": {
          "base_uri": "https://localhost:8080/"
        },
        "id": "shQRwE55KrYt",
        "outputId": "d11254ff-35a0-4732-a957-7a6f05265133"
      },
      "source": [
        "print(df_dist2.head())\n",
        "print(df_dist2.tail())"
      ],
      "execution_count": null,
      "outputs": [
        {
          "output_type": "stream",
          "text": [
            "       Fecha Precip  Evap  Tmax  Tmin   Año  Mes\n",
            "0 1927-02-01      0  Nulo  26.5  13.5  1927    2\n",
            "1 1927-02-02      0  Nulo    27  13.8  1927    2\n",
            "2 1927-02-03      0  Nulo  24.1  12.8  1927    2\n",
            "3 1927-02-04      0  Nulo  26.5  11.7  1927    2\n",
            "4 1927-02-05      0  Nulo  25.5   9.8  1927    2\n",
            "           Fecha Precip  Evap  Tmax Tmin   Año  Mes\n",
            "31650 2016-04-26      0  Nulo    33   12  2016    4\n",
            "31651 2016-04-27      0  Nulo    33   11  2016    4\n",
            "31652 2016-04-28      0  Nulo    32    8  2016    4\n",
            "31653 2016-04-29      0  Nulo    32   10  2016    4\n",
            "31654 2016-04-30      0  Nulo  Nulo   11  2016    4\n"
          ],
          "name": "stdout"
        }
      ]
    },
    {
      "cell_type": "code",
      "metadata": {
        "id": "RHjhet0uLC70"
      },
      "source": [
        "df_dist2.dtypes"
      ],
      "execution_count": null,
      "outputs": []
    }
  ]
}