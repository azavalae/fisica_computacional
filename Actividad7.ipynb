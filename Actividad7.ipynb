{
  "nbformat": 4,
  "nbformat_minor": 0,
  "metadata": {
    "colab": {
      "name": "Actividad7.ipynb",
      "provenance": [],
      "authorship_tag": "ABX9TyOPpoShHV8fU1QTtkc2270O",
      "include_colab_link": true
    },
    "kernelspec": {
      "name": "python3",
      "display_name": "Python 3"
    }
  },
  "cells": [
    {
      "cell_type": "markdown",
      "metadata": {
        "id": "view-in-github",
        "colab_type": "text"
      },
      "source": [
        "<a href=\"https://colab.research.google.com/github/azavalae/fisica_computacional/blob/main/Actividad7.ipynb\" target=\"_parent\"><img src=\"https://colab.research.google.com/assets/colab-badge.svg\" alt=\"Open In Colab\"/></a>"
      ]
    },
    {
      "cell_type": "markdown",
      "metadata": {
        "id": "ouxXirv-mXXL"
      },
      "source": [
        "# Ejercicio 1\r\n",
        "\r\n"
      ]
    },
    {
      "cell_type": "code",
      "metadata": {
        "id": "TXl9GFnp1DSS"
      },
      "source": [
        "# Cargamos las bibliotecas para trabajar en Algebra Lineal.\r\n",
        "import numpy as np\r\n",
        "import scipy.linalg as la\r\n",
        "import matplotlib.pyplot as plt\r\n",
        "from numpy.linalg import matrix_power as mpow\r\n"
      ],
      "execution_count": 29,
      "outputs": []
    },
    {
      "cell_type": "code",
      "metadata": {
        "colab": {
          "base_uri": "https://localhost:8080/"
        },
        "id": "iwlYmqth1mU2",
        "outputId": "9f8b2628-fadc-4d1d-89aa-c8d07e3a51da"
      },
      "source": [
        "#Definimos las matrices a utilizar.\r\n",
        "A = np.array([[1,3],[-1,7]])\r\n",
        "B = np.array([[5,2],[1,2]])\r\n",
        "I = np.eye(2, dtype=int)\r\n",
        "print(A)\r\n",
        "print(B)\r\n",
        "print(I)"
      ],
      "execution_count": null,
      "outputs": [
        {
          "output_type": "stream",
          "text": [
            "[[ 1  3]\n",
            " [-1  7]]\n",
            "[[5 2]\n",
            " [1 2]]\n",
            "[[1 0]\n",
            " [0 1]]\n"
          ],
          "name": "stdout"
        }
      ]
    },
    {
      "cell_type": "code",
      "metadata": {
        "colab": {
          "base_uri": "https://localhost:8080/"
        },
        "id": "FAFcSJM52fd2",
        "outputId": "a72724bd-68a2-4ea8-a35b-301c28e974d6"
      },
      "source": [
        "#Definimos la matriz R como el resultado de la operación.\r\n",
        "R = 2*I + 3*A + A@B\r\n",
        "print(R)"
      ],
      "execution_count": null,
      "outputs": [
        {
          "output_type": "stream",
          "text": [
            "[[13 17]\n",
            " [-1 35]]\n"
          ],
          "name": "stdout"
        }
      ]
    },
    {
      "cell_type": "markdown",
      "metadata": {
        "id": "TQwmtV1qmq5G"
      },
      "source": [
        "# Ejercicio 2"
      ]
    },
    {
      "cell_type": "code",
      "metadata": {
        "id": "tPSM-rs0362Q"
      },
      "source": [
        "#Definimos el polinomio característico de una matriz de 2x2.\r\n",
        "def P(M):\r\n",
        "  print(la.det(M)-np.trace(M)*M+M@M)"
      ],
      "execution_count": null,
      "outputs": []
    },
    {
      "cell_type": "code",
      "metadata": {
        "colab": {
          "base_uri": "https://localhost:8080/"
        },
        "id": "1irjGX7h48Lw",
        "outputId": "50052480-f098-4d25-f008-2e8dc3346a7f"
      },
      "source": [
        "P(I)"
      ],
      "execution_count": null,
      "outputs": [
        {
          "output_type": "stream",
          "text": [
            "[[0. 1.]\n",
            " [1. 0.]]\n"
          ],
          "name": "stdout"
        }
      ]
    },
    {
      "cell_type": "markdown",
      "metadata": {
        "id": "QJYwRPgAmvNH"
      },
      "source": [
        "# Ejercicio 3"
      ]
    },
    {
      "cell_type": "code",
      "metadata": {
        "id": "SVJRYh9Pm0oR"
      },
      "source": [
        "# Implementación del método de eliminación Gaussiana\r\n",
        "# Definimos 3 funciones \r\n",
        "\r\n",
        "# Intercambio de posición de renglones.\r\n",
        "def switch_rows(A,i,j):\r\n",
        "    \"Intercambiar renglones i y j en la matriz A.\"\r\n",
        "    n = A.shape[0]\r\n",
        "    E = np.eye(n)\r\n",
        "    E[i,i] = 0\r\n",
        "    E[j,j] = 0\r\n",
        "    E[i,j] = 1\r\n",
        "    E[j,i] = 1\r\n",
        "    return E @ A\r\n",
        "\r\n",
        "# Multiplicar un renglón por una constante no nula.\r\n",
        "def scale_row(A,k,i):\r\n",
        "    \"Multiplicar el renglón i por k en la matriz A.\"\r\n",
        "    n = A.shape[0]\r\n",
        "    E = np.eye(n)\r\n",
        "    E[i,i] = k\r\n",
        "    return E @ A\r\n",
        "\r\n",
        "# Sumar un múltiplo de un reglon a otro renglón.\r\n",
        "def add_row(A,k,i,j):\r\n",
        "    \"Sumar k veces el renglón j al renglón i en la matriz A.\"\r\n",
        "    n = A.shape[0]\r\n",
        "    E = np.eye(n)\r\n",
        "    if i == j:\r\n",
        "        E[i,i] = k + 1\r\n",
        "    else:\r\n",
        "        E[i,j] = k\r\n",
        "    return E @ A"
      ],
      "execution_count": 1,
      "outputs": []
    },
    {
      "cell_type": "code",
      "metadata": {
        "colab": {
          "base_uri": "https://localhost:8080/"
        },
        "id": "gdHl1syLttaa",
        "outputId": "a157e6af-26d8-485b-a3b4-6820bc4ebefa"
      },
      "source": [
        "C = np.array([[1,-3,1,1],[3,-4,1,5],[0,2,-1,0]])\r\n",
        "print(C)"
      ],
      "execution_count": 5,
      "outputs": [
        {
          "output_type": "stream",
          "text": [
            "[[ 1 -3  1  1]\n",
            " [ 3 -4  1  5]\n",
            " [ 0  2 -1  0]]\n"
          ],
          "name": "stdout"
        }
      ]
    },
    {
      "cell_type": "code",
      "metadata": {
        "colab": {
          "base_uri": "https://localhost:8080/"
        },
        "id": "pTCkdax8ua7D",
        "outputId": "3f8a7df5-698a-4b2d-a714-66089bace0fa"
      },
      "source": [
        "# 1) L2 + (-3)L1 -> L2\r\n",
        "C1 = add_row(C,-3,1,0)\r\n",
        "print(C1)"
      ],
      "execution_count": 8,
      "outputs": [
        {
          "output_type": "stream",
          "text": [
            "[[ 1. -3.  1.  1.]\n",
            " [ 0.  5. -2.  2.]\n",
            " [ 0.  2. -1.  0.]]\n"
          ],
          "name": "stdout"
        }
      ]
    },
    {
      "cell_type": "code",
      "metadata": {
        "colab": {
          "base_uri": "https://localhost:8080/"
        },
        "id": "hbVPDQm6v6Xj",
        "outputId": "be008c5b-1725-4086-f39c-dd4365332cfa"
      },
      "source": [
        "# 2) 1/5 L2 -> L2\r\n",
        "#    L1 + 3 L2 -> L1\r\n",
        "#    L3 + (-2)L2 -> L3\r\n",
        "C2_tmp1 = scale_row(C1,1/5,1)\r\n",
        "C2_tmp2 = add_row(C2_tmp1,3,0,1)\r\n",
        "C2 = add_row(C2_tmp2,-2,2,1)\r\n",
        "print(C2)\r\n"
      ],
      "execution_count": 11,
      "outputs": [
        {
          "output_type": "stream",
          "text": [
            "[[ 1.   0.  -0.2  2.2]\n",
            " [ 0.   1.  -0.4  0.4]\n",
            " [ 0.   0.  -0.2 -0.8]]\n"
          ],
          "name": "stdout"
        }
      ]
    },
    {
      "cell_type": "code",
      "metadata": {
        "colab": {
          "base_uri": "https://localhost:8080/"
        },
        "id": "QWmi-wq9yEiB",
        "outputId": "2e2e6405-5682-4c2a-db73-9058b1981bcc"
      },
      "source": [
        "# 3) (-5)L3 -> L3\r\n",
        "#    L1 + 1/5 L3 -> L1\r\n",
        "#    L2 + 2/5 L3 -> L2\r\n",
        "C3_tmp1 = scale_row(C2,-5,2)\r\n",
        "C3_tmp2 = add_row(C3_tmp1,1/5,0,2)\r\n",
        "C3 = add_row(C3_tmp2,2/5,1,2)\r\n",
        "print(C3)"
      ],
      "execution_count": 18,
      "outputs": [
        {
          "output_type": "stream",
          "text": [
            "[[ 1.00000000e+00  0.00000000e+00 -9.99200722e-17  3.00000000e+00]\n",
            " [ 0.00000000e+00  1.00000000e+00 -8.88178420e-17  2.00000000e+00]\n",
            " [ 0.00000000e+00  0.00000000e+00  1.00000000e+00  4.00000000e+00]]\n"
          ],
          "name": "stdout"
        }
      ]
    },
    {
      "cell_type": "code",
      "metadata": {
        "colab": {
          "base_uri": "https://localhost:8080/"
        },
        "id": "w4v86uX7015c",
        "outputId": "304705db-cfcd-427c-eef3-db612f12b768"
      },
      "source": [
        "# definimos b. Recordemos que tenemos que usar la función .reshape()\r\n",
        "b = np.array([1,5,0]).reshape(3,1)\r\n",
        "\r\n",
        "#Definimos la matriz C, omitiendo la comlumna de resultados\r\n",
        "C_sqr = np.array([[1,-3,1],[3,-4,1],[0,2,-1]])\r\n",
        "\r\n",
        "# Resolviendo el sistema de ecuaciones usando scipy.linalg.solve\r\n",
        "x_sol = la.solve(C_sqr, b)\r\n",
        "print(x_sol)"
      ],
      "execution_count": 22,
      "outputs": [
        {
          "output_type": "stream",
          "text": [
            "[[3.]\n",
            " [2.]\n",
            " [4.]]\n"
          ],
          "name": "stdout"
        }
      ]
    },
    {
      "cell_type": "markdown",
      "metadata": {
        "id": "pxL98ajz4Rs2"
      },
      "source": [
        "# Ejercicio 4"
      ]
    },
    {
      "cell_type": "code",
      "metadata": {
        "colab": {
          "base_uri": "https://localhost:8080/"
        },
        "id": "jGsvywOy4Vnq",
        "outputId": "e9a4dcf0-8c63-43a5-acb0-eb90c35f8a75"
      },
      "source": [
        "B1 = np.array([[2,0,0],[0,3,4],[0,4,9]])\r\n",
        "B2 = np.array([[0,1,0],[0,0,1],[1,0,0]])\r\n",
        "B3 = np.array([[2,0,0,0],[1,2,0,0],[0,1,3,0],[0,0,1,3]])\r\n",
        "print(B1)\r\n",
        "print(B2)\r\n",
        "print(B3)"
      ],
      "execution_count": 25,
      "outputs": [
        {
          "output_type": "stream",
          "text": [
            "[[2 0 0]\n",
            " [0 3 4]\n",
            " [0 4 9]]\n",
            "[[0 1 0]\n",
            " [0 0 1]\n",
            " [1 0 0]]\n",
            "[[2 0 0 0]\n",
            " [1 2 0 0]\n",
            " [0 1 3 0]\n",
            " [0 0 1 3]]\n"
          ],
          "name": "stdout"
        }
      ]
    },
    {
      "cell_type": "code",
      "metadata": {
        "colab": {
          "base_uri": "https://localhost:8080/"
        },
        "id": "ubEASYqP5SH7",
        "outputId": "a0a9bd69-5831-47f5-c534-e8a263a612a6"
      },
      "source": [
        "# Aplicamos la biblioteca scipy.linalg.eig()\r\n",
        "eigvals_B1, eigvecs_B1 = la.eig(B1)\r\n",
        "print('Eigenvalores:', eigvals_B1)\r\n",
        "print('Eigenvectores:', eigvecs_B1)\r\n",
        "\r\n",
        "eigvals_B2, eigvecs_B2 = la.eig(B2)\r\n",
        "print('Eigenvalores:', eigvals_B2)\r\n",
        "print('Eigenvectores:', eigvecs_B2)\r\n",
        "\r\n",
        "eigvals_B3, eigvecs_B3 = la.eig(B3)\r\n",
        "print('Eigenvalores:', eigvals_B3)\r\n",
        "print('Eigenvectores:', eigvecs_B3)"
      ],
      "execution_count": 27,
      "outputs": [
        {
          "output_type": "stream",
          "text": [
            "Eigenvalores: [11.+0.j  1.+0.j  2.+0.j]\n",
            "Eigenvectores: [[ 0.          0.          1.        ]\n",
            " [ 0.4472136   0.89442719  0.        ]\n",
            " [ 0.89442719 -0.4472136   0.        ]]\n",
            "Eigenvalores: [-0.5+0.8660254j -0.5-0.8660254j  1. +0.j       ]\n",
            "Eigenvectores: [[ 0.57735027+0.j   0.57735027-0.j  -0.57735027+0.j ]\n",
            " [-0.28867513+0.5j -0.28867513-0.5j -0.57735027+0.j ]\n",
            " [-0.28867513-0.5j -0.28867513+0.5j -0.57735027+0.j ]]\n",
            "Eigenvalores: [3.+0.j 3.+0.j 2.+0.j 2.+0.j]\n",
            "Eigenvectores: [[ 0.00000000e+00  0.00000000e+00  0.00000000e+00  2.56395025e-16]\n",
            " [ 0.00000000e+00  0.00000000e+00  5.77350269e-01 -5.77350269e-01]\n",
            " [ 0.00000000e+00  6.66133815e-16 -5.77350269e-01  5.77350269e-01]\n",
            " [ 1.00000000e+00 -1.00000000e+00  5.77350269e-01 -5.77350269e-01]]\n"
          ],
          "name": "stdout"
        }
      ]
    },
    {
      "cell_type": "markdown",
      "metadata": {
        "id": "JHVl4KwS6omB"
      },
      "source": [
        "# Ejercicio 5"
      ]
    },
    {
      "cell_type": "code",
      "metadata": {
        "colab": {
          "base_uri": "https://localhost:8080/",
          "height": 295
        },
        "id": "Mwy-qz1n6rSP",
        "outputId": "356f6a39-e1e0-4868-bbb3-885c90886d88"
      },
      "source": [
        "x = np.array([0.0,0.5,1.0,1.5,2.0,2.5,3.0,3.5])\r\n",
        "y = np.array([0.0,0.47942,0.84147,0.99749,0.90930,0.59847,0.14112,-0.35078])\r\n",
        "plt.plot(x,y,'r.')\r\n",
        "plt.grid()\r\n",
        "plt.title('Puntos que deseamos interpolar')\r\n",
        "plt.xlabel('x')\r\n",
        "plt.ylabel('y')\r\n",
        "plt.show()"
      ],
      "execution_count": 56,
      "outputs": [
        {
          "output_type": "display_data",
          "data": {
            "image/png": "[encoded data removed]",
            "text/plain": [
              "<Figure size 432x288 with 1 Axes>"
            ]
          },
          "metadata": {
            "tags": [],
            "needs_background": "light"
          }
        }
      ]
    },
    {
      "cell_type": "code",
      "metadata": {
        "colab": {
          "base_uri": "https://localhost:8080/"
        },
        "id": "sVdUshAkG_NK",
        "outputId": "8f5c62dc-af1b-4d52-b3c4-38e8b9cf76d6"
      },
      "source": [
        "X = np.vander(x,increasing=True)\r\n",
        "print(X[:5,:5])"
      ],
      "execution_count": 38,
      "outputs": [
        {
          "output_type": "stream",
          "text": [
            "[[ 1.      0.      0.      0.      0.    ]\n",
            " [ 1.      0.5     0.25    0.125   0.0625]\n",
            " [ 1.      1.      1.      1.      1.    ]\n",
            " [ 1.      1.5     2.25    3.375   5.0625]\n",
            " [ 1.      2.      4.      8.     16.    ]]\n"
          ],
          "name": "stdout"
        }
      ]
    },
    {
      "cell_type": "code",
      "metadata": {
        "colab": {
          "base_uri": "https://localhost:8080/"
        },
        "id": "tW_uyTNrNhuC",
        "outputId": "68c330a5-b744-47fc-9173-17f12fc0a8ba"
      },
      "source": [
        "a = la.solve(X,y)\r\n",
        "print(a)"
      ],
      "execution_count": 39,
      "outputs": [
        {
          "output_type": "stream",
          "text": [
            "[ 0.00000000e+00  1.00067181e+00 -3.70788889e-03 -1.58867889e-01\n",
            " -8.30222222e-03  1.31964444e-02 -1.54488889e-03  2.46349206e-05]\n"
          ],
          "name": "stdout"
        }
      ]
    },
    {
      "cell_type": "code",
      "metadata": {
        "colab": {
          "base_uri": "https://localhost:8080/",
          "height": 295
        },
        "id": "Lp9J_P53Nk1n",
        "outputId": "a82a16b3-2190-48b1-da96-1448f1d0d605"
      },
      "source": [
        "xs = np.linspace(0,3.5,200)\r\n",
        "ys = sum([a[k]*xs**k for k in range(0,8)])\r\n",
        "plt.plot(x,y,'r.',xs,ys)\r\n",
        "plt.grid()\r\n",
        "plt.title('Polinomio interpolante p(x)')\r\n",
        "plt.xlabel('x')\r\n",
        "plt.ylabel('y')\r\n",
        "plt.show()"
      ],
      "execution_count": 55,
      "outputs": [
        {
          "output_type": "display_data",
          "data": {
            "image/png": "[encoded data removed]",
            "text/plain": [
              "<Figure size 432x288 with 1 Axes>"
            ]
          },
          "metadata": {
            "tags": [],
            "needs_background": "light"
          }
        }
      ]
    }
  ]
}